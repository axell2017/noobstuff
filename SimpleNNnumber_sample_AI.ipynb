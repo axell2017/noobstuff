{
  "nbformat": 4,
  "nbformat_minor": 0,
  "metadata": {
    "colab": {
      "name": "SimpleNNnumber_sample_AI.ipynb",
      "version": "0.3.2",
      "provenance": [],
      "collapsed_sections": [],
      "toc_visible": true,
      "include_colab_link": true
    },
    "kernelspec": {
      "display_name": "Python 3",
      "language": "python",
      "name": "python3"
    }
  },
  "cells": [
    {
      "cell_type": "markdown",
      "metadata": {
        "id": "view-in-github",
        "colab_type": "text"
      },
      "source": [
        "<a href=\"https://colab.research.google.com/github/axell2017/noobstuff/blob/master/SimpleNNnumber_sample_AI.ipynb\" target=\"_parent\"><img src=\"https://colab.research.google.com/assets/colab-badge.svg\" alt=\"Open In Colab\"/></a>"
      ]
    },
    {
      "metadata": {
        "id": "vrDUwhcaSPNr",
        "colab_type": "text"
      },
      "cell_type": "markdown",
      "source": [
        "# Modules"
      ]
    },
    {
      "metadata": {
        "colab_type": "code",
        "id": "OX8VycoZMj11",
        "colab": {
          "base_uri": "https://localhost:8080/",
          "height": 34
        },
        "outputId": "7013b82c-9341-413a-a0be-dd9545879c1d"
      },
      "cell_type": "code",
      "source": [
        "import numpy as np\n",
        "import keras\n",
        "from keras import backend as K\n",
        "from keras.models import Sequential\n",
        "from keras.layers import Activation\n",
        "from keras.layers.core import Dense, Flatten\n",
        "from keras.optimizers import Adam\n",
        "from keras.metrics import categorical_crossentropy\n",
        "from keras.preprocessing.image import ImageDataGenerator\n",
        "from keras.layers.normalization import BatchNormalization\n",
        "from keras.layers.convolutional import *\n",
        "from sklearn.metrics import confusion_matrix\n",
        "import itertools\n",
        "import matplotlib.pyplot as plt\n",
        "%matplotlib inline\n",
        "import os\n",
        "import cv2\n",
        "import tqdm\n",
        "import tensorflow as tf\n"
      ],
      "execution_count": 1,
      "outputs": [
        {
          "output_type": "stream",
          "text": [
            "Using TensorFlow backend.\n"
          ],
          "name": "stderr"
        }
      ]
    },
    {
      "metadata": {
        "colab_type": "text",
        "id": "cLv4wmH8eomz"
      },
      "cell_type": "markdown",
      "source": [
        "# PREPROCESS TEST DATA"
      ]
    },
    {
      "metadata": {
        "colab_type": "code",
        "id": "uKaPJb55T5Yc",
        "colab": {
          "base_uri": "https://localhost:8080/",
          "height": 51
        },
        "outputId": "7dff5637-1daa-431b-d0bd-a911e0d44412"
      },
      "cell_type": "code",
      "source": [
        "train_path = 'C:/Users/Axell2017/Downloads/Code/PetImages'\n",
        "categories = ['Dog', 'Cat']\n",
        "\n",
        "mnist = tf.keras.datasets.mnist\n",
        "\n",
        "(x_train, y_train),(x_test, y_test) = mnist.load_data()\n",
        "\n",
        "x_train = tf.keras.utils.normalize(x_train, axis=1)\n",
        "x_test = tf.keras.utils.normalize(x_test, axis=1)\n",
        "\n",
        "\n",
        "\n",
        "\n",
        "#test_labels = np.array(test_labels)\n",
        "#test_samples = np.array(test_samples)"
      ],
      "execution_count": 2,
      "outputs": [
        {
          "output_type": "stream",
          "text": [
            "Downloading data from https://storage.googleapis.com/tensorflow/tf-keras-datasets/mnist.npz\n",
            "11493376/11490434 [==============================] - 0s 0us/step\n"
          ],
          "name": "stdout"
        }
      ]
    },
    {
      "metadata": {
        "id": "KDcMawi_SPN1",
        "colab_type": "code",
        "colab": {}
      },
      "cell_type": "code",
      "source": [
        "print(x_train[0])\n",
        "plt.imshow(x_train[0])\n",
        "plt.show()"
      ],
      "execution_count": 0,
      "outputs": []
    },
    {
      "metadata": {
        "id": "UN3hqDL6SPN5",
        "colab_type": "code",
        "colab": {},
        "outputId": "d630a2a8-61d6-427e-a5a9-97fc4f38ade6"
      },
      "cell_type": "code",
      "source": [
        "print(y_train[3])"
      ],
      "execution_count": 0,
      "outputs": [
        {
          "output_type": "stream",
          "text": [
            "1\n"
          ],
          "name": "stdout"
        }
      ]
    },
    {
      "metadata": {
        "colab_type": "text",
        "id": "pYwflmrZeMy_"
      },
      "cell_type": "markdown",
      "source": [
        "# MODEL"
      ]
    },
    {
      "metadata": {
        "colab_type": "code",
        "id": "pGcVzNNyMtpV",
        "colab": {}
      },
      "cell_type": "code",
      "source": [
        "model = Sequential()\n",
        "model.add(Flatten()) # converts our 3D feature maps into 1D feature vectors\n",
        "model.add(Dense(128, activation='relu'))\n",
        "model.add(Dense(128, activation='relu'))\n",
        "model.add(Dense(10, activation='softmax'))"
      ],
      "execution_count": 0,
      "outputs": []
    },
    {
      "metadata": {
        "colab_type": "text",
        "id": "i32WGOQMaa0D"
      },
      "cell_type": "markdown",
      "source": [
        "validation_split = 0.1 = uses training data and splits 10% of it as testing/validation set as it trains on epochs.\n",
        "\n"
      ]
    },
    {
      "metadata": {
        "colab_type": "code",
        "id": "rKfz3gdxTsn3",
        "scrolled": true,
        "colab": {}
      },
      "cell_type": "code",
      "source": [
        "model.compile(optimizer= 'adam', loss='sparse_categorical_crossentropy',  metrics=['accuracy'])"
      ],
      "execution_count": 0,
      "outputs": []
    },
    {
      "metadata": {
        "scrolled": true,
        "id": "V3qj5JIcSPOM",
        "colab_type": "code",
        "colab": {
          "base_uri": "https://localhost:8080/",
          "height": 221
        },
        "outputId": "2787f557-8d80-406c-eb7d-8e62c7e13e3a"
      },
      "cell_type": "code",
      "source": [
        "model.fit(x_train, y_train, validation_data=(x_test, y_test), epochs=5)"
      ],
      "execution_count": 6,
      "outputs": [
        {
          "output_type": "stream",
          "text": [
            "Train on 60000 samples, validate on 10000 samples\n",
            "Epoch 1/5\n",
            "60000/60000 [==============================] - 8s 139us/step - loss: 0.2640 - acc: 0.9224 - val_loss: 0.1388 - val_acc: 0.9568\n",
            "Epoch 2/5\n",
            "60000/60000 [==============================] - 7s 122us/step - loss: 0.1067 - acc: 0.9673 - val_loss: 0.1004 - val_acc: 0.9695\n",
            "Epoch 3/5\n",
            "60000/60000 [==============================] - 7s 123us/step - loss: 0.0711 - acc: 0.9779 - val_loss: 0.0947 - val_acc: 0.9700\n",
            "Epoch 4/5\n",
            "60000/60000 [==============================] - 7s 122us/step - loss: 0.0539 - acc: 0.9826 - val_loss: 0.0861 - val_acc: 0.9751\n",
            "Epoch 5/5\n",
            "60000/60000 [==============================] - 7s 121us/step - loss: 0.0404 - acc: 0.9864 - val_loss: 0.0853 - val_acc: 0.9751\n"
          ],
          "name": "stdout"
        },
        {
          "output_type": "execute_result",
          "data": {
            "text/plain": [
              "<keras.callbacks.History at 0x7f3a38e9ceb8>"
            ]
          },
          "metadata": {
            "tags": []
          },
          "execution_count": 6
        }
      ]
    },
    {
      "metadata": {
        "id": "jE9CMpw1SPOP",
        "colab_type": "code",
        "colab": {},
        "outputId": "94fb9c90-cf53-4e46-bad7-a31c87cd7dfe"
      },
      "cell_type": "code",
      "source": [
        "model.summary()"
      ],
      "execution_count": 0,
      "outputs": [
        {
          "output_type": "stream",
          "text": [
            "_________________________________________________________________\n",
            "Layer (type)                 Output Shape              Param #   \n",
            "=================================================================\n",
            "flatten_1 (Flatten)          (None, 784)               0         \n",
            "_________________________________________________________________\n",
            "dense_1 (Dense)              (None, 128)               100480    \n",
            "_________________________________________________________________\n",
            "dense_2 (Dense)              (None, 128)               16512     \n",
            "_________________________________________________________________\n",
            "dense_3 (Dense)              (None, 10)                1290      \n",
            "=================================================================\n",
            "Total params: 118,282\n",
            "Trainable params: 118,282\n",
            "Non-trainable params: 0\n",
            "_________________________________________________________________\n"
          ],
          "name": "stdout"
        }
      ]
    },
    {
      "metadata": {
        "id": "twLfIK0BSPOS",
        "colab_type": "code",
        "colab": {
          "base_uri": "https://localhost:8080/",
          "height": 68
        },
        "outputId": "e5f4d927-1b44-401a-8395-a736eab864fc"
      },
      "cell_type": "code",
      "source": [
        "val_loss, val_acc = model.evaluate(x_test, y_test)  # evaluate the out of sample data with model\n",
        "print(val_loss)  # model's loss (error)\n",
        "print(val_acc)  # model's accuracy"
      ],
      "execution_count": 7,
      "outputs": [
        {
          "output_type": "stream",
          "text": [
            "10000/10000 [==============================] - 0s 28us/step\n",
            "0.08525860200156457\n",
            "0.9751\n"
          ],
          "name": "stdout"
        }
      ]
    },
    {
      "metadata": {
        "colab_type": "text",
        "id": "_t9t-n3LfHGH"
      },
      "cell_type": "markdown",
      "source": [
        "# PREDICTION"
      ]
    },
    {
      "metadata": {
        "colab_type": "code",
        "id": "wrmFKs2BfMyk",
        "colab": {}
      },
      "cell_type": "code",
      "source": [
        "predictions = model.predict(x_test)"
      ],
      "execution_count": 0,
      "outputs": []
    },
    {
      "metadata": {
        "colab_type": "code",
        "id": "denUtFzEfcG9",
        "scrolled": true,
        "colab": {}
      },
      "cell_type": "code",
      "source": [
        "for i in predictions:\n",
        "  print(i)"
      ],
      "execution_count": 0,
      "outputs": []
    },
    {
      "metadata": {
        "colab_type": "text",
        "id": "QxPZmDZzf57W"
      },
      "cell_type": "markdown",
      "source": [
        "Rounded predictions will take the raw prediciton data and classify it based on labels."
      ]
    },
    {
      "metadata": {
        "id": "vPwxCW85SPOl",
        "colab_type": "code",
        "colab": {
          "base_uri": "https://localhost:8080/",
          "height": 34
        },
        "outputId": "4f9b80b8-b2df-47d1-dbd9-9f2f257e0349"
      },
      "cell_type": "code",
      "source": [
        "print(np.argmax(predictions[666]))"
      ],
      "execution_count": 10,
      "outputs": [
        {
          "output_type": "stream",
          "text": [
            "7\n"
          ],
          "name": "stdout"
        }
      ]
    },
    {
      "metadata": {
        "id": "mh8Uf8B-SPOq",
        "colab_type": "code",
        "colab": {
          "base_uri": "https://localhost:8080/",
          "height": 265
        },
        "outputId": "c16419d5-542d-4ff4-9bd3-fa08cf4a6e35"
      },
      "cell_type": "code",
      "source": [
        "plt.imshow(x_test[666])\n",
        "plt.show()"
      ],
      "execution_count": 11,
      "outputs": [
        {
          "output_type": "display_data",
          "data": {
            "image/png": "[encoded data removed]",
            "text/plain": [
              "<matplotlib.figure.Figure at 0x7f3a39930438>"
            ]
          },
          "metadata": {
            "tags": []
          }
        }
      ]
    },
    {
      "metadata": {
        "colab_type": "text",
        "id": "TRAxI3J2ifQn"
      },
      "cell_type": "markdown",
      "source": [
        "# SAVE AND LOAD MODEL"
      ]
    },
    {
      "metadata": {
        "colab_type": "code",
        "id": "SkrPiqUsihYc",
        "colab": {}
      },
      "cell_type": "code",
      "source": [
        "model.save(\"enter name here.h5\")"
      ],
      "execution_count": 0,
      "outputs": []
    },
    {
      "metadata": {
        "colab_type": "text",
        "id": "Bf2F-z1Ni3Jm"
      },
      "cell_type": "markdown",
      "source": [
        "Function will save:\n",
        "\n",
        "\n",
        "*   The architecture of the model, allowing to re-create the model.\n",
        "*   The weights of the model.\n",
        "*   The training configuration (loss, optimizer).\n",
        "*  The state of the optimizer, allowing to resume training exactly where you left off.\n",
        "\n",
        "\n"
      ]
    },
    {
      "metadata": {
        "colab_type": "code",
        "id": "SYZ65dyVjPQ2",
        "colab": {}
      },
      "cell_type": "code",
      "source": [
        "from keras.models import load_model\n",
        "new_model = load_model(\"saved name file.h5\")"
      ],
      "execution_count": 0,
      "outputs": []
    },
    {
      "metadata": {
        "colab_type": "code",
        "id": "yeyDdcFWjgO0",
        "colab": {}
      },
      "cell_type": "code",
      "source": [
        "new_model.summary()  #should have exact same summary as saved model"
      ],
      "execution_count": 0,
      "outputs": []
    }
  ]
}